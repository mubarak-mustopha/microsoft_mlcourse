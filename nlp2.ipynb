{
  "nbformat": 4,
  "nbformat_minor": 0,
  "metadata": {
    "colab": {
      "name": "nlp2.ipynb",
      "provenance": [],
      "collapsed_sections": []
    },
    "kernelspec": {
      "name": "python3",
      "display_name": "Python 3"
    },
    "language_info": {
      "name": "python"
    }
  },
  "cells": [
    {
      "cell_type": "code",
      "metadata": {
        "colab": {
          "base_uri": "https://localhost:8080/"
        },
        "id": "7196-lT8RXXJ",
        "outputId": "42b15ad6-f5d6-4b96-c62a-90e04ea24918"
      },
      "source": [
        "import nltk\n",
        "nltk.download('punkt')"
      ],
      "execution_count": 75,
      "outputs": [
        {
          "output_type": "stream",
          "name": "stdout",
          "text": [
            "[nltk_data] Downloading package punkt to /root/nltk_data...\n",
            "[nltk_data]   Package punkt is already up-to-date!\n"
          ]
        },
        {
          "output_type": "execute_result",
          "data": {
            "text/plain": [
              "True"
            ]
          },
          "metadata": {},
          "execution_count": 75
        }
      ]
    },
    {
      "cell_type": "code",
      "metadata": {
        "colab": {
          "base_uri": "https://localhost:8080/"
        },
        "id": "M8oaXZxORtST",
        "outputId": "1f53c15c-0234-4247-8139-f4a54ed0dfe4"
      },
      "source": [
        "!python -m textblob.download_corpora"
      ],
      "execution_count": 76,
      "outputs": [
        {
          "output_type": "stream",
          "name": "stdout",
          "text": [
            "[nltk_data] Downloading package brown to /root/nltk_data...\n",
            "[nltk_data]   Package brown is already up-to-date!\n",
            "[nltk_data] Downloading package punkt to /root/nltk_data...\n",
            "[nltk_data]   Package punkt is already up-to-date!\n",
            "[nltk_data] Downloading package wordnet to /root/nltk_data...\n",
            "[nltk_data]   Package wordnet is already up-to-date!\n",
            "[nltk_data] Downloading package averaged_perceptron_tagger to\n",
            "[nltk_data]     /root/nltk_data...\n",
            "[nltk_data]   Package averaged_perceptron_tagger is already up-to-\n",
            "[nltk_data]       date!\n",
            "[nltk_data] Downloading package conll2000 to /root/nltk_data...\n",
            "[nltk_data]   Package conll2000 is already up-to-date!\n",
            "[nltk_data] Downloading package movie_reviews to /root/nltk_data...\n",
            "[nltk_data]   Package movie_reviews is already up-to-date!\n",
            "Finished.\n"
          ]
        }
      ]
    },
    {
      "cell_type": "code",
      "metadata": {
        "id": "O_PPITWEZiIY"
      },
      "source": [
        "instructions = [\"Hello, I am Marvin, the simple robot.\",\"You can end this conversation at any time by typing \\'bye\\' \",\n",
        "                \"After typing each answer, press \\'enter\\'\"]   "
      ],
      "execution_count": 77,
      "outputs": []
    },
    {
      "cell_type": "code",
      "metadata": {
        "colab": {
          "base_uri": "https://localhost:8080/"
        },
        "id": "5YzPQIhUQDvK",
        "outputId": "d32d3246-78e2-415e-f714-7d4de6a9ee1f"
      },
      "source": [
        "from textblob import TextBlob\n",
        "from textblob.np_extractors import ConllExtractor\n",
        "# import and create a Conll extractor to use later \n",
        "extractor = ConllExtractor()\n",
        "print('\\n'.join(instructions))\n",
        "# later when you need a noun phrase extractor:\n",
        "while True:\n",
        "  user_input = input(\"> \")\n",
        "  if not user_input == 'bye':\n",
        "    user_input_blob = TextBlob(user_input, np_extractor=extractor)  # note non-default extractor specified\n",
        "    np = user_input_blob.noun_phrases \n",
        "    if user_input_blob.polarity <= -0.5:\n",
        "      response = \"Oh dear, that sounds bad. \"\n",
        "    elif user_input_blob.polarity <= 0:\n",
        "      response = \"Hmm, that's not great. \"\n",
        "    elif user_input_blob.polarity <= 0.5:\n",
        "      response = \"Well, that sounds positive. \"\n",
        "    elif user_input_blob.polarity <= 1:\n",
        "      response = \"Wow, that sounds great. \"\n",
        "    if np == []:\n",
        "      print(response, 'Can you tell me more.')\n",
        "    else :\n",
        "      print(response, 'Can you tell me more about', ''.join(np.pluralize()), '?')  \n",
        "  else:\n",
        "    break      "
      ],
      "execution_count": 78,
      "outputs": [
        {
          "name": "stdout",
          "output_type": "stream",
          "text": [
            "Hello, I am Marvin, the simple robot.\n",
            "You can end this conversation at any time by typing 'bye' \n",
            "After typing each answer, press 'enter'\n",
            "> I am ok\n",
            "Well, that sounds positive.  Can you tell me more.\n",
            "> I went for a walk and saw a lovely cat\n",
            "Well, that sounds positive.  Can you tell me more about lovely cats ?\n",
            "> cats are the best. But I also have a cool dog\n",
            "Wow, that sounds great.  Can you tell me more about cool dogs ?\n",
            "> I have an old hounddog but he is sick\n",
            "Hmm, that's not great.  Can you tell me more about old hounddogs ?\n",
            "> bye\n"
          ]
        }
      ]
    },
    {
      "cell_type": "code",
      "metadata": {
        "id": "2KzlY8R70QuS"
      },
      "source": [
        ""
      ],
      "execution_count": null,
      "outputs": []
    }
  ]
}