{
 "cells": [
  {
   "cell_type": "code",
   "execution_count": 31,
   "id": "0081bd57",
   "metadata": {},
   "outputs": [],
   "source": [
    "import nltk\n",
    "from textblob import TextBlob"
   ]
  },
  {
   "cell_type": "code",
   "execution_count": 32,
   "id": "534fa05c",
   "metadata": {},
   "outputs": [],
   "source": [
    "try:\n",
    "    with open('pride_prejudice.txt', 'r') as f:\n",
    "        text = f.read()\n",
    "except FileNotFoundError:\n",
    "    print(f.name, 'not found')"
   ]
  },
  {
   "cell_type": "code",
   "execution_count": null,
   "id": "e08322d3",
   "metadata": {},
   "outputs": [],
   "source": []
  },
  {
   "cell_type": "code",
   "execution_count": 33,
   "id": "360f2a2c",
   "metadata": {},
   "outputs": [
    {
     "data": {
      "text/plain": [
       "1879"
      ]
     },
     "execution_count": 33,
     "metadata": {},
     "output_type": "execute_result"
    }
   ],
   "source": [
    "#The text  starts from chapter 1 so check for the index number of the string 'CHAPTER I' \n",
    "text.index('CHAPTER I.')"
   ]
  },
  {
   "cell_type": "code",
   "execution_count": 34,
   "id": "27e34478",
   "metadata": {},
   "outputs": [],
   "source": [
    "text = text[1879:]"
   ]
  },
  {
   "cell_type": "code",
   "execution_count": 35,
   "id": "2906e580",
   "metadata": {},
   "outputs": [
    {
     "name": "stdout",
     "output_type": "stream",
     "text": [
      "CHAPTER I.\n",
      "\n",
      "\n",
      "It is a truth universally acknowledged, that a single man in possession\n",
      "of a good fortune, must be in want \n"
     ]
    }
   ],
   "source": [
    "print(text[:120])"
   ]
  },
  {
   "cell_type": "code",
   "execution_count": 36,
   "id": "811f7d38",
   "metadata": {},
   "outputs": [
    {
     "data": {
      "text/plain": [
       "690704"
      ]
     },
     "execution_count": 36,
     "metadata": {},
     "output_type": "execute_result"
    }
   ],
   "source": [
    "text.index('Transcriber\\'s note:')#end of text"
   ]
  },
  {
   "cell_type": "code",
   "execution_count": 37,
   "id": "9d4e3370",
   "metadata": {},
   "outputs": [],
   "source": [
    "text = text[:690704]"
   ]
  },
  {
   "cell_type": "code",
   "execution_count": 38,
   "id": "4324a42c",
   "metadata": {},
   "outputs": [],
   "source": [
    "blob = TextBlob(text)\n",
    "sentences = [sentence for sentence in blob.sentences]"
   ]
  },
  {
   "cell_type": "code",
   "execution_count": 39,
   "id": "544aed36",
   "metadata": {},
   "outputs": [
    {
     "data": {
      "text/plain": [
       "5856"
      ]
     },
     "execution_count": 39,
     "metadata": {},
     "output_type": "execute_result"
    }
   ],
   "source": [
    "len(sentences)"
   ]
  },
  {
   "cell_type": "code",
   "execution_count": 40,
   "id": "2f53cb05",
   "metadata": {},
   "outputs": [
    {
     "name": "stdout",
     "output_type": "stream",
     "text": [
      "[Sentence(\"They were able to love each\n",
      "other, even as well as they intended.\"), Sentence(\"Georgiana had the highest opinion\n",
      "in the world of Elizabeth; though at first she often listened with an\n",
      "astonishment bordering on alarm, at her lively, sportive, manner of\n",
      "talking to her brother.\"), Sentence(\"He, who had always inspired in herself a respect\n",
      "which almost overcame her affection, she now saw the object of open\n",
      "pleasantry.\"), Sentence(\"Her mind received knowledge which had never before fallen in\n",
      "her way.\"), Sentence(\"By Elizabeth's instructions she began to comprehend that a\n",
      "woman may take liberties with her husband, which a brother will not\n",
      "always allow in a sister more than ten years younger than himself.\"), Sentence(\"Lady Catherine was extremely indignant on the marriage of her nephew;\n",
      "and as she gave way to all the genuine frankness of her character, in\n",
      "her reply to the letter which announced its arrangement, she sent him\n",
      "language so very abusive, especially of Elizabeth, that for some time\n",
      "all intercourse was at an end.\"), Sentence(\"But at length, by Elizabeth's persuasion,\n",
      "he was prevailed on to overlook the offence, and seek a reconciliation;\n",
      "and, after a little farther resistance on the part of his aunt, her\n",
      "resentment gave way, either to her affection for him, or her curiosity\n",
      "to see how his wife conducted herself; and she condescended to wait on\n",
      "them at Pemberley, in spite of that pollution which its woods had\n",
      "received, not merely from the presence of such a mistress, but the\n",
      "visits of her uncle and aunt from the city.\"), Sentence(\"With the Gardiners, they were always on the most intimate terms.\"), Sentence(\"Darcy,\n",
      "as well as Elizabeth, really loved them; and they were both ever\n",
      "sensible of the warmest gratitude towards the persons who, by bringing\n",
      "her into Derbyshire, had been the means of uniting them.\"), Sentence(\"*       *       *       *       *\")]\n"
     ]
    }
   ],
   "source": [
    "print(sentences[-10:])"
   ]
  },
  {
   "cell_type": "code",
   "execution_count": 41,
   "id": "783a6eeb",
   "metadata": {},
   "outputs": [],
   "source": [
    "pos = [sentence for sentence in sentences if 0.5 <= sentence.sentiment.polarity <= 1]\n",
    "neg = [sentence for sentence in sentences if -1 <= sentence.sentiment.polarity  <= -0.5]"
   ]
  },
  {
   "cell_type": "code",
   "execution_count": 42,
   "id": "9806bd87",
   "metadata": {},
   "outputs": [
    {
     "name": "stdout",
     "output_type": "stream",
     "text": [
      "There are  603  positive sentences and  165  positive sentences in the text\n"
     ]
    }
   ],
   "source": [
    "print('There are ', len(pos),' positive sentences and ' , len(neg),' positive sentences in the text')"
   ]
  },
  {
   "cell_type": "code",
   "execution_count": null,
   "id": "c1cca9b1",
   "metadata": {},
   "outputs": [],
   "source": []
  }
 ],
 "metadata": {
  "kernelspec": {
   "display_name": "Python 3",
   "language": "python",
   "name": "python3"
  },
  "language_info": {
   "codemirror_mode": {
    "name": "ipython",
    "version": 3
   },
   "file_extension": ".py",
   "mimetype": "text/x-python",
   "name": "python",
   "nbconvert_exporter": "python",
   "pygments_lexer": "ipython3",
   "version": "3.9.1"
  }
 },
 "nbformat": 4,
 "nbformat_minor": 5
}
