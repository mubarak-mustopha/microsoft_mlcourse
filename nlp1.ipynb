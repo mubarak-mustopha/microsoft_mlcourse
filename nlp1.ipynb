{
 "cells": [
  {
   "cell_type": "code",
   "execution_count": 1,
   "metadata": {
    "id": "ynFYE92THMTJ"
   },
   "outputs": [],
   "source": [
    "from random import choice"
   ]
  },
  {
   "cell_type": "code",
   "execution_count": 2,
   "metadata": {
    "id": "pr46XG8oHRDr"
   },
   "outputs": [],
   "source": [
    "random_responses = [\"That is quite interesting, please tell me more.\",\n",
    "                    \"I see. Do go on.\",\n",
    "                    \"Why do you say that?\",\n",
    "                    \"Funny weather we've been having, isn't it?\",\n",
    "                    \"Let's change the subject.\",\n",
    "                    \"Did you catch the game last night?\"]\n",
    "\n",
    "instructions = [\"Hello, I am Marvin, the simple robot.\",\"You can end this conversation at any time by typing \\'bye\\' \",\n",
    "                \"After typing each answer, press \\'enter\\'\"]                    "
   ]
  },
  {
   "cell_type": "code",
   "execution_count": 5,
   "metadata": {
    "id": "8LwzRFszKy9F"
   },
   "outputs": [],
   "source": [
    "def chat():\n",
    "  print('\\n'.join(instructions))\n",
    "  response = input('How are you today?')\n",
    "  while True:\n",
    "    \n",
    "    if not response == 'bye':\n",
    "      response = input(choice(random_responses))\n",
    "    else:\n",
    "      break"
   ]
  },
  {
   "cell_type": "code",
   "execution_count": 6,
   "metadata": {
    "colab": {
     "base_uri": "https://localhost:8080/"
    },
    "id": "6unUu7b3MZ39",
    "outputId": "afc45e4c-beff-415b-8d32-73d9ba038314"
   },
   "outputs": [
    {
     "name": "stdout",
     "output_type": "stream",
     "text": [
      "Hello, I am Marvin, the simple robot.\n",
      "You can end this conversation at any time by typing 'bye' \n",
      "After typing each answer, press 'enter'\n",
      "How are you today?Im good\n",
      "I see. Do go on.I just got a new pc\n",
      "Why do you say that?Are you sure you understand what I just said?\n",
      "Did you catch the game last night?No I didin't\n",
      "That is quite interesting, please tell me more.bye\n"
     ]
    }
   ],
   "source": [
    "chat()"
   ]
  },
  {
   "cell_type": "code",
   "execution_count": null,
   "metadata": {
    "id": "qTuBD36PPfv8"
   },
   "outputs": [],
   "source": []
  }
 ],
 "metadata": {
  "colab": {
   "collapsed_sections": [],
   "name": "nlp1.ipynb",
   "provenance": []
  },
  "kernelspec": {
   "display_name": "Python 3",
   "language": "python",
   "name": "python3"
  },
  "language_info": {
   "codemirror_mode": {
    "name": "ipython",
    "version": 3
   },
   "file_extension": ".py",
   "mimetype": "text/x-python",
   "name": "python",
   "nbconvert_exporter": "python",
   "pygments_lexer": "ipython3",
   "version": "3.9.1"
  }
 },
 "nbformat": 4,
 "nbformat_minor": 1
}
