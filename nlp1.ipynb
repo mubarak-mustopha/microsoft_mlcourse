{
  "nbformat": 4,
  "nbformat_minor": 0,
  "metadata": {
    "colab": {
      "name": "nlp1.ipynb",
      "provenance": [],
      "collapsed_sections": []
    },
    "kernelspec": {
      "name": "python3",
      "display_name": "Python 3"
    },
    "language_info": {
      "name": "python"
    }
  },
  "cells": [
    {
      "cell_type": "code",
      "metadata": {
        "id": "ynFYE92THMTJ"
      },
      "source": [
        "from random import choice"
      ],
      "execution_count": 1,
      "outputs": []
    },
    {
      "cell_type": "code",
      "metadata": {
        "id": "pr46XG8oHRDr"
      },
      "source": [
        "random_responses = [\"That is quite interesting, please tell me more.\",\n",
        "                    \"I see. Do go on.\",\n",
        "                    \"Why do you say that?\",\n",
        "                    \"Funny weather we've been having, isn't it?\",\n",
        "                    \"Let's change the subject.\",\n",
        "                    \"Did you catch the game last night?\"]\n",
        "\n",
        "instructions = [\"Hello, I am Marvin, the simple robot.\",\"You can end this conversation at any time by typing \\'bye\\' \",\n",
        "                \"After typing each answer, press \\'enter\\'\"]                    "
      ],
      "execution_count": 2,
      "outputs": []
    },
    {
      "cell_type": "code",
      "metadata": {
        "id": "8LwzRFszKy9F"
      },
      "source": [
        "def chat():\n",
        "  print('\\n'.join(instructions))\n",
        "  while True:\n",
        "    response = input('How are you today?')\n",
        "    if not response == 'bye':\n",
        "      print(choice(random_responses))\n",
        "    else:\n",
        "      break"
      ],
      "execution_count": 3,
      "outputs": []
    },
    {
      "cell_type": "code",
      "metadata": {
        "colab": {
          "base_uri": "https://localhost:8080/"
        },
        "id": "6unUu7b3MZ39",
        "outputId": "afc45e4c-beff-415b-8d32-73d9ba038314"
      },
      "source": [
        "chat()"
      ],
      "execution_count": 4,
      "outputs": [
        {
          "name": "stdout",
          "output_type": "stream",
          "text": [
            "Hello, I am Marvin, the simple robot.\n",
            "You can end this conversation at any time by typing 'bye' \n",
            "After typing each answer, press 'enter'\n",
            "How are you today?I'm fine\n",
            "Did you catch the game last night?\n",
            "How are you today?No I didn't\n",
            "Funny weather we've been having, isn't it?\n",
            "How are you today?bye\n"
          ]
        }
      ]
    },
    {
      "cell_type": "code",
      "metadata": {
        "id": "qTuBD36PPfv8"
      },
      "source": [
        ""
      ],
      "execution_count": null,
      "outputs": []
    }
  ]
}